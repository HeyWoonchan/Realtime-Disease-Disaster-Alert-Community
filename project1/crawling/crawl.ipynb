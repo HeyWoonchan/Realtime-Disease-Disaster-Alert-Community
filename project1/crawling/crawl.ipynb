{
 "cells": [
  {
   "cell_type": "code",
   "execution_count": null,
   "metadata": {},
   "outputs": [],
   "source": [
    "import requests\n",
    "import json\n",
    "\n",
    "url = \"https://www.safekorea.go.kr/idsiSFK/sfk/cs/sua/web/DisasterSmsList.do\"  # 이 URL은 실제 도메인으로 변경해야 합니다.\n",
    "headers = {\n",
    "    \"Content-Type\": \"application/json; charset=UTF-8\"\n",
    "}\n",
    "data = {\n",
    "    \"disasterSms_searchinfo\": {\n",
    "        \"searchInfo\": {\n",
    "            # 여기에 searchInfo 객체의 필드를 추가하세요.\n",
    "        }\n",
    "    }\n",
    "}\n",
    "\n",
    "response = requests.post(url, headers=headers, data=json.dumps(data))\n",
    "\n",
    "if response.status_code == 200:\n",
    "    disasterSmsList = response.json().get(\"disasterSmsList\", [])\n",
    "    dm_resultMap = response.json().get(\"rtnResult\", {})\n",
    "    # 이후 필요한 작업을 수행하세요.\n",
    "else:\n",
    "    print(f\"요청이 실패했습니다. 상태 코드: {response.status_code}\")\n",
    "\n",
    "\n",
    "print(disasterSmsList)\n",
    "print(dm_resultMap)"
   ]
  },
  {
   "cell_type": "code",
   "execution_count": 18,
   "metadata": {},
   "outputs": [
    {
     "name": "stdout",
     "output_type": "stream",
     "text": [
      "<Response [500]>\n"
     ]
    }
   ],
   "source": [
    "import requests as req\n",
    "from bs4 import BeautifulSoup as BS\n",
    "\n",
    "url = \"https://www.safekorea.go.kr/idsiSFK/neo/main/main\"\n",
    "res = req.get(url)\n",
    "\n",
    "\n",
    "print(res)\n"
   ]
  },
  {
   "cell_type": "code",
   "execution_count": 2,
   "metadata": {},
   "outputs": [
    {
     "ename": "SyntaxError",
     "evalue": "f-string expression part cannot include a backslash (3850615374.py, line 14)",
     "output_type": "error",
     "traceback": [
      "\u001b[0;36m  File \u001b[0;32m\"/var/folders/cz/4xtfjr653pz758qt8_db9gvr0000gn/T/ipykernel_12968/3850615374.py\"\u001b[0;36m, line \u001b[0;32m14\u001b[0m\n\u001b[0;31m    sj = f\"<strong>{item['CREAT_DT']}</strong>{item['MSG_CN'][item['MSG_CN'].index(']')+1:].replace('\\\\n', '').replace('\\\\r', '')}\"\u001b[0m\n\u001b[0m                                                                                                                                   ^\u001b[0m\n\u001b[0;31mSyntaxError\u001b[0m\u001b[0;31m:\u001b[0m f-string expression part cannot include a backslash\n"
     ]
    }
   ],
   "source": [
    "import requests\n",
    "from bs4 import BeautifulSoup\n",
    "\n",
    "jdata = [\n",
    "    # 여기에 JSON 데이터를 추가하세요.\n",
    "]\n",
    "\n",
    "def set_html_list(jdata):\n",
    "    result = []\n",
    "    for item in jdata:\n",
    "        if item[\"MSG_SE_CD\"] == \"cbs\" or item[\"MSG_SE_CD\"] == \"cbs_kma\":\n",
    "            url = \"/idsiSFK/neo/sfk/cs/sfc/dis/disasterMsgList.jsp?menuSeq=679\"\n",
    "            header = item[\"MSG_CN\"][item[\"MSG_CN\"].index(\"[\")+1:item[\"MSG_CN\"].index(\"]\")]\n",
    "            sj = f\"<strong>{item['CREAT_DT']}</strong>{item['MSG_CN'][item['MSG_CN'].index(']')+1:].replace('\\\\n', '').replace('\\\\r', '')}\"\n",
    "        else:\n",
    "            url = \"/idsiSFK/neo/sfk/cs/sfc/dis/disasterNewsList.jsp?menuSeq=619\"\n",
    "            header = \"안전뉴스\"\n",
    "            sj = item[\"SJ\"]\n",
    "\n",
    "        li_element = f\"<span class='org'>{header}</span>{sj}\"\n",
    "        result.append(li_element)\n",
    "    return result\n",
    "\n",
    "# 원하는 URL을 입력하세요.\n",
    "url = \"https://www.safekorea.go.kr/idsiSFK/neo/main/main.html\"\n",
    "\n",
    "response = requests.get(url)\n",
    "soup = BeautifulSoup(response.text, \"html.parser\")\n",
    "ul_element = soup.find(\"ul\", {\"id\": \"gen\"})\n",
    "\n",
    "if ul_element:\n",
    "    li_elements = ul_element.find_all(\"li\")\n",
    "    for li in li_elements:\n",
    "        li.extract()\n",
    "\n",
    "new_li_elements = set_html_list(jdata)\n",
    "\n",
    "for new_li in new_li_elements:\n",
    "    li_tag = soup.new_tag(\"li\")\n",
    "    li_tag.append(BeautifulSoup(new_li, \"html.parser\"))\n",
    "    ul_element.append(li_tag)\n",
    "\n",
    "print(soup.prettify())\n"
   ]
  },
  {
   "cell_type": "code",
   "execution_count": 11,
   "metadata": {},
   "outputs": [
    {
     "ename": "KeyError",
     "evalue": "'MSG_SE_CD'",
     "output_type": "error",
     "traceback": [
      "\u001b[0;31m---------------------------------------------------------------------------\u001b[0m",
      "\u001b[0;31mKeyError\u001b[0m                                  Traceback (most recent call last)",
      "\u001b[0;32m/var/folders/cz/4xtfjr653pz758qt8_db9gvr0000gn/T/ipykernel_12968/4200740024.py\u001b[0m in \u001b[0;36m<module>\u001b[0;34m\u001b[0m\n\u001b[1;32m     33\u001b[0m         \u001b[0mli\u001b[0m\u001b[0;34m.\u001b[0m\u001b[0mextract\u001b[0m\u001b[0;34m(\u001b[0m\u001b[0;34m)\u001b[0m\u001b[0;34m\u001b[0m\u001b[0;34m\u001b[0m\u001b[0m\n\u001b[1;32m     34\u001b[0m \u001b[0;34m\u001b[0m\u001b[0m\n\u001b[0;32m---> 35\u001b[0;31m \u001b[0mnew_li_elements\u001b[0m \u001b[0;34m=\u001b[0m \u001b[0mset_html_list\u001b[0m\u001b[0;34m(\u001b[0m\u001b[0mjdata\u001b[0m\u001b[0;34m)\u001b[0m\u001b[0;34m\u001b[0m\u001b[0;34m\u001b[0m\u001b[0m\n\u001b[0m\u001b[1;32m     36\u001b[0m \u001b[0;34m\u001b[0m\u001b[0m\n\u001b[1;32m     37\u001b[0m \u001b[0;32mfor\u001b[0m \u001b[0mnew_li\u001b[0m \u001b[0;32min\u001b[0m \u001b[0mnew_li_elements\u001b[0m\u001b[0;34m:\u001b[0m\u001b[0;34m\u001b[0m\u001b[0;34m\u001b[0m\u001b[0m\n",
      "\u001b[0;32m/var/folders/cz/4xtfjr653pz758qt8_db9gvr0000gn/T/ipykernel_12968/4200740024.py\u001b[0m in \u001b[0;36mset_html_list\u001b[0;34m(jdata)\u001b[0m\n\u001b[1;32m      8\u001b[0m     \u001b[0mresult\u001b[0m \u001b[0;34m=\u001b[0m \u001b[0;34m[\u001b[0m\u001b[0;34m]\u001b[0m\u001b[0;34m\u001b[0m\u001b[0;34m\u001b[0m\u001b[0m\n\u001b[1;32m      9\u001b[0m     \u001b[0;32mfor\u001b[0m \u001b[0mitem\u001b[0m \u001b[0;32min\u001b[0m \u001b[0mjdata\u001b[0m\u001b[0;34m:\u001b[0m\u001b[0;34m\u001b[0m\u001b[0;34m\u001b[0m\u001b[0m\n\u001b[0;32m---> 10\u001b[0;31m         \u001b[0;32mif\u001b[0m \u001b[0mitem\u001b[0m\u001b[0;34m[\u001b[0m\u001b[0;34m\"MSG_SE_CD\"\u001b[0m\u001b[0;34m]\u001b[0m \u001b[0;34m==\u001b[0m \u001b[0;34m\"cbs\"\u001b[0m \u001b[0;32mor\u001b[0m \u001b[0mitem\u001b[0m\u001b[0;34m[\u001b[0m\u001b[0;34m\"MSG_SE_CD\"\u001b[0m\u001b[0;34m]\u001b[0m \u001b[0;34m==\u001b[0m \u001b[0;34m\"cbs_kma\"\u001b[0m\u001b[0;34m:\u001b[0m\u001b[0;34m\u001b[0m\u001b[0;34m\u001b[0m\u001b[0m\n\u001b[0m\u001b[1;32m     11\u001b[0m             \u001b[0murl\u001b[0m \u001b[0;34m=\u001b[0m \u001b[0;34m\"https://www.safekorea.go.kr/idsiSFK/neo/sfk/cs/sfc/dis/disasterMsgList.jsp?menuSeq=679\"\u001b[0m\u001b[0;34m\u001b[0m\u001b[0;34m\u001b[0m\u001b[0m\n\u001b[1;32m     12\u001b[0m             \u001b[0mheader\u001b[0m \u001b[0;34m=\u001b[0m \u001b[0mitem\u001b[0m\u001b[0;34m[\u001b[0m\u001b[0;34m\"MSG_CN\"\u001b[0m\u001b[0;34m]\u001b[0m\u001b[0;34m[\u001b[0m\u001b[0mitem\u001b[0m\u001b[0;34m[\u001b[0m\u001b[0;34m\"MSG_CN\"\u001b[0m\u001b[0;34m]\u001b[0m\u001b[0;34m.\u001b[0m\u001b[0mindex\u001b[0m\u001b[0;34m(\u001b[0m\u001b[0;34m\"[\"\u001b[0m\u001b[0;34m)\u001b[0m\u001b[0;34m+\u001b[0m\u001b[0;36m1\u001b[0m\u001b[0;34m:\u001b[0m\u001b[0mitem\u001b[0m\u001b[0;34m[\u001b[0m\u001b[0;34m\"MSG_CN\"\u001b[0m\u001b[0;34m]\u001b[0m\u001b[0;34m.\u001b[0m\u001b[0mindex\u001b[0m\u001b[0;34m(\u001b[0m\u001b[0;34m\"]\"\u001b[0m\u001b[0;34m)\u001b[0m\u001b[0;34m]\u001b[0m\u001b[0;34m\u001b[0m\u001b[0;34m\u001b[0m\u001b[0m\n",
      "\u001b[0;31mKeyError\u001b[0m: 'MSG_SE_CD'"
     ]
    }
   ],
   "source": [
    "import requests\n",
    "from bs4 import BeautifulSoup\n",
    "import json\n",
    "\n",
    "jdata = [{'sdof':12}]\n",
    "\n",
    "def set_html_list(jdata):\n",
    "    result = []\n",
    "    for item in jdata:\n",
    "        if item[\"MSG_SE_CD\"] == \"cbs\" or item[\"MSG_SE_CD\"] == \"cbs_kma\":\n",
    "            url = \"https://www.safekorea.go.kr/idsiSFK/neo/sfk/cs/sfc/dis/disasterMsgList.jsp?menuSeq=679\"\n",
    "            header = item[\"MSG_CN\"][item[\"MSG_CN\"].index(\"[\")+1:item[\"MSG_CN\"].index(\"]\")]\n",
    "            sj = \"<strong>\" + item['CREAT_DT'] + \"</strong>\" + item['MSG_CN'][item['MSG_CN'].index(']')+1:].replace('\\n', '').replace('\\r', '')\n",
    "        else:\n",
    "            url = \"/idsiSFK/neo/sfk/cs/sfc/dis/disasterNewsList.jsp?menuSeq=619\"\n",
    "            header = \"안전뉴스\"\n",
    "            sj = item[\"SJ\"]\n",
    "\n",
    "        li_element = \"<span class='org'>\" + header + \"</span>\" + sj\n",
    "        result.append(li_element)\n",
    "    return result\n",
    "\n",
    "# 원하는 URL을 입력하세요.\n",
    "url = \"https://www.safekorea.go.kr/idsiSFK/neo/main/main.html\"\n",
    "\n",
    "response = requests.get(url)\n",
    "soup = BeautifulSoup(response.content.decode('utf-8', 'replace'), \"html.parser\")\n",
    "ul_element = soup.find(\"ul\", {\"id\": \"gen\"})\n",
    "\n",
    "if ul_element:\n",
    "    li_elements = ul_element.find_all(\"li\")\n",
    "    for li in li_elements:\n",
    "        li.extract()\n",
    "\n",
    "new_li_elements = set_html_list(jdata)\n",
    "\n",
    "for new_li in new_li_elements:\n",
    "    li_tag = soup.new_tag(\"li\")\n",
    "    li_tag.append(BeautifulSoup(new_li, \"html.parser\"))\n",
    "    ul_element.append(li_tag)\n",
    "\n",
    "print(new_li_elements)\n"
   ]
  },
  {
   "cell_type": "code",
   "execution_count": 12,
   "metadata": {},
   "outputs": [
    {
     "ename": "SyntaxError",
     "evalue": "f-string expression part cannot include a backslash (2356941544.py, line 21)",
     "output_type": "error",
     "traceback": [
      "\u001b[0;36m  File \u001b[0;32m\"/var/folders/cz/4xtfjr653pz758qt8_db9gvr0000gn/T/ipykernel_12968/2356941544.py\"\u001b[0;36m, line \u001b[0;32m21\u001b[0m\n\u001b[0;31m    sj = f\"<strong>{item['CREAT_DT']}</strong>{item['MSG_CN'][item['MSG_CN'].find(']') + 1:].replace('\\\\n', '').replace('\\\\r', '')}\"\u001b[0m\n\u001b[0m                                                                                                                                    ^\u001b[0m\n\u001b[0;31mSyntaxError\u001b[0m\u001b[0;31m:\u001b[0m f-string expression part cannot include a backslash\n"
     ]
    }
   ],
   "source": [
    "import requests\n",
    "import json\n",
    "from bs4 import BeautifulSoup\n",
    "\n",
    "# JSON 데이터를 가져오는 API 또는 URL\n",
    "json_url = 'https://www.safekorea.go.kr/idsiSFK/neo/main/main.json'\n",
    "\n",
    "# JSON 데이터 가져오기\n",
    "response = requests.get(json_url)\n",
    "json_data = response.json()\n",
    "\n",
    "# setHTMLList 함수에서 가져온 로직을 사용하여 'gen' 요소 생성\n",
    "gen_element = BeautifulSoup('<ul id=\"gen\"></ul>', 'html.parser')\n",
    "gen_list = gen_element.find(id='gen')\n",
    "\n",
    "for item in json_data:\n",
    "    li_element = gen_list.new_tag('li')\n",
    "    \n",
    "    if item['MSG_SE_CD'] == 'cbs' or item['MSG_SE_CD'] == 'cbs_kma':\n",
    "        header = item['MSG_CN'][item['MSG_CN'].find('[') + 1:item['MSG_CN'].find(']')]\n",
    "        sj = f\"<strong>{item['CREAT_DT']}</strong>{item['MSG_CN'][item['MSG_CN'].find(']') + 1:].replace('\\\\n', '').replace('\\\\r', '')}\"\n",
    "    else:\n",
    "        header = '안전뉴스'\n",
    "        sj = item['SJ']\n",
    "\n",
    "    li_element.string = f\"<span class='org'>{header}</span>{sj}\"\n",
    "    gen_list.append(li_element)\n",
    "\n",
    "# 변경된 'gen' 요소의 값을 출력\n",
    "print(gen_element.prettify())\n"
   ]
  },
  {
   "cell_type": "code",
   "execution_count": 13,
   "metadata": {},
   "outputs": [
    {
     "ename": "JSONDecodeError",
     "evalue": "Expecting value: line 1 column 1 (char 0)",
     "output_type": "error",
     "traceback": [
      "\u001b[0;31m---------------------------------------------------------------------------\u001b[0m",
      "\u001b[0;31mJSONDecodeError\u001b[0m                           Traceback (most recent call last)",
      "\u001b[0;32m~/opt/anaconda3/lib/python3.9/site-packages/requests/models.py\u001b[0m in \u001b[0;36mjson\u001b[0;34m(self, **kwargs)\u001b[0m\n\u001b[1;32m    970\u001b[0m         \u001b[0;32mtry\u001b[0m\u001b[0;34m:\u001b[0m\u001b[0;34m\u001b[0m\u001b[0;34m\u001b[0m\u001b[0m\n\u001b[0;32m--> 971\u001b[0;31m             \u001b[0;32mreturn\u001b[0m \u001b[0mcomplexjson\u001b[0m\u001b[0;34m.\u001b[0m\u001b[0mloads\u001b[0m\u001b[0;34m(\u001b[0m\u001b[0mself\u001b[0m\u001b[0;34m.\u001b[0m\u001b[0mtext\u001b[0m\u001b[0;34m,\u001b[0m \u001b[0;34m**\u001b[0m\u001b[0mkwargs\u001b[0m\u001b[0;34m)\u001b[0m\u001b[0;34m\u001b[0m\u001b[0;34m\u001b[0m\u001b[0m\n\u001b[0m\u001b[1;32m    972\u001b[0m         \u001b[0;32mexcept\u001b[0m \u001b[0mJSONDecodeError\u001b[0m \u001b[0;32mas\u001b[0m \u001b[0me\u001b[0m\u001b[0;34m:\u001b[0m\u001b[0;34m\u001b[0m\u001b[0;34m\u001b[0m\u001b[0m\n",
      "\u001b[0;32m~/opt/anaconda3/lib/python3.9/json/__init__.py\u001b[0m in \u001b[0;36mloads\u001b[0;34m(s, cls, object_hook, parse_float, parse_int, parse_constant, object_pairs_hook, **kw)\u001b[0m\n\u001b[1;32m    345\u001b[0m             parse_constant is None and object_pairs_hook is None and not kw):\n\u001b[0;32m--> 346\u001b[0;31m         \u001b[0;32mreturn\u001b[0m \u001b[0m_default_decoder\u001b[0m\u001b[0;34m.\u001b[0m\u001b[0mdecode\u001b[0m\u001b[0;34m(\u001b[0m\u001b[0ms\u001b[0m\u001b[0;34m)\u001b[0m\u001b[0;34m\u001b[0m\u001b[0;34m\u001b[0m\u001b[0m\n\u001b[0m\u001b[1;32m    347\u001b[0m     \u001b[0;32mif\u001b[0m \u001b[0mcls\u001b[0m \u001b[0;32mis\u001b[0m \u001b[0;32mNone\u001b[0m\u001b[0;34m:\u001b[0m\u001b[0;34m\u001b[0m\u001b[0;34m\u001b[0m\u001b[0m\n",
      "\u001b[0;32m~/opt/anaconda3/lib/python3.9/json/decoder.py\u001b[0m in \u001b[0;36mdecode\u001b[0;34m(self, s, _w)\u001b[0m\n\u001b[1;32m    336\u001b[0m         \"\"\"\n\u001b[0;32m--> 337\u001b[0;31m         \u001b[0mobj\u001b[0m\u001b[0;34m,\u001b[0m \u001b[0mend\u001b[0m \u001b[0;34m=\u001b[0m \u001b[0mself\u001b[0m\u001b[0;34m.\u001b[0m\u001b[0mraw_decode\u001b[0m\u001b[0;34m(\u001b[0m\u001b[0ms\u001b[0m\u001b[0;34m,\u001b[0m \u001b[0midx\u001b[0m\u001b[0;34m=\u001b[0m\u001b[0m_w\u001b[0m\u001b[0;34m(\u001b[0m\u001b[0ms\u001b[0m\u001b[0;34m,\u001b[0m \u001b[0;36m0\u001b[0m\u001b[0;34m)\u001b[0m\u001b[0;34m.\u001b[0m\u001b[0mend\u001b[0m\u001b[0;34m(\u001b[0m\u001b[0;34m)\u001b[0m\u001b[0;34m)\u001b[0m\u001b[0;34m\u001b[0m\u001b[0;34m\u001b[0m\u001b[0m\n\u001b[0m\u001b[1;32m    338\u001b[0m         \u001b[0mend\u001b[0m \u001b[0;34m=\u001b[0m \u001b[0m_w\u001b[0m\u001b[0;34m(\u001b[0m\u001b[0ms\u001b[0m\u001b[0;34m,\u001b[0m \u001b[0mend\u001b[0m\u001b[0;34m)\u001b[0m\u001b[0;34m.\u001b[0m\u001b[0mend\u001b[0m\u001b[0;34m(\u001b[0m\u001b[0;34m)\u001b[0m\u001b[0;34m\u001b[0m\u001b[0;34m\u001b[0m\u001b[0m\n",
      "\u001b[0;32m~/opt/anaconda3/lib/python3.9/json/decoder.py\u001b[0m in \u001b[0;36mraw_decode\u001b[0;34m(self, s, idx)\u001b[0m\n\u001b[1;32m    354\u001b[0m         \u001b[0;32mexcept\u001b[0m \u001b[0mStopIteration\u001b[0m \u001b[0;32mas\u001b[0m \u001b[0merr\u001b[0m\u001b[0;34m:\u001b[0m\u001b[0;34m\u001b[0m\u001b[0;34m\u001b[0m\u001b[0m\n\u001b[0;32m--> 355\u001b[0;31m             \u001b[0;32mraise\u001b[0m \u001b[0mJSONDecodeError\u001b[0m\u001b[0;34m(\u001b[0m\u001b[0;34m\"Expecting value\"\u001b[0m\u001b[0;34m,\u001b[0m \u001b[0ms\u001b[0m\u001b[0;34m,\u001b[0m \u001b[0merr\u001b[0m\u001b[0;34m.\u001b[0m\u001b[0mvalue\u001b[0m\u001b[0;34m)\u001b[0m \u001b[0;32mfrom\u001b[0m \u001b[0;32mNone\u001b[0m\u001b[0;34m\u001b[0m\u001b[0;34m\u001b[0m\u001b[0m\n\u001b[0m\u001b[1;32m    356\u001b[0m         \u001b[0;32mreturn\u001b[0m \u001b[0mobj\u001b[0m\u001b[0;34m,\u001b[0m \u001b[0mend\u001b[0m\u001b[0;34m\u001b[0m\u001b[0;34m\u001b[0m\u001b[0m\n",
      "\u001b[0;31mJSONDecodeError\u001b[0m: Expecting value: line 1 column 1 (char 0)",
      "\nDuring handling of the above exception, another exception occurred:\n",
      "\u001b[0;31mJSONDecodeError\u001b[0m                           Traceback (most recent call last)",
      "\u001b[0;32m/var/folders/cz/4xtfjr653pz758qt8_db9gvr0000gn/T/ipykernel_12968/1650850248.py\u001b[0m in \u001b[0;36m<module>\u001b[0;34m\u001b[0m\n\u001b[1;32m      8\u001b[0m \u001b[0;31m# JSON 데이터 가져오기\u001b[0m\u001b[0;34m\u001b[0m\u001b[0;34m\u001b[0m\u001b[0m\n\u001b[1;32m      9\u001b[0m \u001b[0mresponse\u001b[0m \u001b[0;34m=\u001b[0m \u001b[0mrequests\u001b[0m\u001b[0;34m.\u001b[0m\u001b[0mget\u001b[0m\u001b[0;34m(\u001b[0m\u001b[0mjson_url\u001b[0m\u001b[0;34m)\u001b[0m\u001b[0;34m\u001b[0m\u001b[0;34m\u001b[0m\u001b[0m\n\u001b[0;32m---> 10\u001b[0;31m \u001b[0mjson_data\u001b[0m \u001b[0;34m=\u001b[0m \u001b[0mresponse\u001b[0m\u001b[0;34m.\u001b[0m\u001b[0mjson\u001b[0m\u001b[0;34m(\u001b[0m\u001b[0;34m)\u001b[0m\u001b[0;34m\u001b[0m\u001b[0;34m\u001b[0m\u001b[0m\n\u001b[0m\u001b[1;32m     11\u001b[0m \u001b[0;34m\u001b[0m\u001b[0m\n\u001b[1;32m     12\u001b[0m \u001b[0;31m# setHTMLList 함수에서 가져온 로직을 사용하여 'gen' 요소 생성\u001b[0m\u001b[0;34m\u001b[0m\u001b[0;34m\u001b[0m\u001b[0m\n",
      "\u001b[0;32m~/opt/anaconda3/lib/python3.9/site-packages/requests/models.py\u001b[0m in \u001b[0;36mjson\u001b[0;34m(self, **kwargs)\u001b[0m\n\u001b[1;32m    973\u001b[0m             \u001b[0;31m# Catch JSON-related errors and raise as requests.JSONDecodeError\u001b[0m\u001b[0;34m\u001b[0m\u001b[0;34m\u001b[0m\u001b[0m\n\u001b[1;32m    974\u001b[0m             \u001b[0;31m# This aliases json.JSONDecodeError and simplejson.JSONDecodeError\u001b[0m\u001b[0;34m\u001b[0m\u001b[0;34m\u001b[0m\u001b[0m\n\u001b[0;32m--> 975\u001b[0;31m             \u001b[0;32mraise\u001b[0m \u001b[0mRequestsJSONDecodeError\u001b[0m\u001b[0;34m(\u001b[0m\u001b[0me\u001b[0m\u001b[0;34m.\u001b[0m\u001b[0mmsg\u001b[0m\u001b[0;34m,\u001b[0m \u001b[0me\u001b[0m\u001b[0;34m.\u001b[0m\u001b[0mdoc\u001b[0m\u001b[0;34m,\u001b[0m \u001b[0me\u001b[0m\u001b[0;34m.\u001b[0m\u001b[0mpos\u001b[0m\u001b[0;34m)\u001b[0m\u001b[0;34m\u001b[0m\u001b[0;34m\u001b[0m\u001b[0m\n\u001b[0m\u001b[1;32m    976\u001b[0m \u001b[0;34m\u001b[0m\u001b[0m\n\u001b[1;32m    977\u001b[0m     \u001b[0;34m@\u001b[0m\u001b[0mproperty\u001b[0m\u001b[0;34m\u001b[0m\u001b[0;34m\u001b[0m\u001b[0m\n",
      "\u001b[0;31mJSONDecodeError\u001b[0m: Expecting value: line 1 column 1 (char 0)"
     ]
    }
   ],
   "source": [
    "import requests\n",
    "import json\n",
    "from bs4 import BeautifulSoup\n",
    "\n",
    "# JSON 데이터를 가져오는 API 또는 URL\n",
    "json_url = 'https://www.safekorea.go.kr/idsiSFK/neo/main/main.json'\n",
    "\n",
    "# JSON 데이터 가져오기\n",
    "response = requests.get(json_url)\n",
    "json_data = response.json()\n",
    "\n",
    "# setHTMLList 함수에서 가져온 로직을 사용하여 'gen' 요소 생성\n",
    "gen_element = BeautifulSoup('<ul id=\"gen\"></ul>', 'html.parser')\n",
    "gen_list = gen_element.find(id='gen')\n",
    "\n",
    "for item in json_data:\n",
    "    li_element = gen_list.new_tag('li')\n",
    "    \n",
    "    if item['MSG_SE_CD'] == 'cbs' or item['MSG_SE_CD'] == 'cbs_kma':\n",
    "        header = item['MSG_CN'][item['MSG_CN'].find('[') + 1:item['MSG_CN'].find(']')]\n",
    "        sj = \"<strong>{}</strong>{}\".format(item['CREAT_DT'], item['MSG_CN'][item['MSG_CN'].find(']') + 1:].replace('\\n', '').replace('\\r', ''))\n",
    "    else:\n",
    "        header = '안전뉴스'\n",
    "        sj = item['SJ']\n",
    "\n",
    "    li_element.string = \"<span class='org'>{}</span>{}\".format(header, sj)\n",
    "    gen_list.append(li_element)\n",
    "\n",
    "# 변경된 'gen' 요소의 값을 출력\n",
    "print(gen_element.prettify())\n"
   ]
  },
  {
   "cell_type": "code",
   "execution_count": 14,
   "metadata": {},
   "outputs": [
    {
     "ename": "HTTPError",
     "evalue": "HTTP Error 500: Internal Server Error",
     "output_type": "error",
     "traceback": [
      "\u001b[0;31m---------------------------------------------------------------------------\u001b[0m",
      "\u001b[0;31mHTTPError\u001b[0m                                 Traceback (most recent call last)",
      "\u001b[0;32m/var/folders/cz/4xtfjr653pz758qt8_db9gvr0000gn/T/ipykernel_12968/1110090716.py\u001b[0m in \u001b[0;36m<module>\u001b[0;34m\u001b[0m\n\u001b[1;32m      3\u001b[0m \u001b[0;34m\u001b[0m\u001b[0m\n\u001b[1;32m      4\u001b[0m \u001b[0murl\u001b[0m \u001b[0;34m=\u001b[0m \u001b[0;34m\"https://www.safekorea.go.kr/idsiSFK/neo/main/main.json\"\u001b[0m\u001b[0;34m\u001b[0m\u001b[0;34m\u001b[0m\u001b[0m\n\u001b[0;32m----> 5\u001b[0;31m \u001b[0mtext_data\u001b[0m \u001b[0;34m=\u001b[0m \u001b[0murllib\u001b[0m\u001b[0;34m.\u001b[0m\u001b[0mrequest\u001b[0m\u001b[0;34m.\u001b[0m\u001b[0murlopen\u001b[0m\u001b[0;34m(\u001b[0m\u001b[0murl\u001b[0m\u001b[0;34m)\u001b[0m\u001b[0;34m.\u001b[0m\u001b[0mread\u001b[0m\u001b[0;34m(\u001b[0m\u001b[0;34m)\u001b[0m\u001b[0;34m.\u001b[0m\u001b[0mdecode\u001b[0m\u001b[0;34m(\u001b[0m\u001b[0;34m'utf-8'\u001b[0m\u001b[0;34m)\u001b[0m\u001b[0;34m\u001b[0m\u001b[0;34m\u001b[0m\u001b[0m\n\u001b[0m\u001b[1;32m      6\u001b[0m \u001b[0mhoo\u001b[0m \u001b[0;34m=\u001b[0m \u001b[0mjson\u001b[0m\u001b[0;34m.\u001b[0m\u001b[0mloads\u001b[0m\u001b[0;34m(\u001b[0m\u001b[0mtext_data\u001b[0m\u001b[0;34m)\u001b[0m\u001b[0;34m\u001b[0m\u001b[0;34m\u001b[0m\u001b[0m\n",
      "\u001b[0;32m~/opt/anaconda3/lib/python3.9/urllib/request.py\u001b[0m in \u001b[0;36murlopen\u001b[0;34m(url, data, timeout, cafile, capath, cadefault, context)\u001b[0m\n\u001b[1;32m    212\u001b[0m     \u001b[0;32melse\u001b[0m\u001b[0;34m:\u001b[0m\u001b[0;34m\u001b[0m\u001b[0;34m\u001b[0m\u001b[0m\n\u001b[1;32m    213\u001b[0m         \u001b[0mopener\u001b[0m \u001b[0;34m=\u001b[0m \u001b[0m_opener\u001b[0m\u001b[0;34m\u001b[0m\u001b[0;34m\u001b[0m\u001b[0m\n\u001b[0;32m--> 214\u001b[0;31m     \u001b[0;32mreturn\u001b[0m \u001b[0mopener\u001b[0m\u001b[0;34m.\u001b[0m\u001b[0mopen\u001b[0m\u001b[0;34m(\u001b[0m\u001b[0murl\u001b[0m\u001b[0;34m,\u001b[0m \u001b[0mdata\u001b[0m\u001b[0;34m,\u001b[0m \u001b[0mtimeout\u001b[0m\u001b[0;34m)\u001b[0m\u001b[0;34m\u001b[0m\u001b[0;34m\u001b[0m\u001b[0m\n\u001b[0m\u001b[1;32m    215\u001b[0m \u001b[0;34m\u001b[0m\u001b[0m\n\u001b[1;32m    216\u001b[0m \u001b[0;32mdef\u001b[0m \u001b[0minstall_opener\u001b[0m\u001b[0;34m(\u001b[0m\u001b[0mopener\u001b[0m\u001b[0;34m)\u001b[0m\u001b[0;34m:\u001b[0m\u001b[0;34m\u001b[0m\u001b[0;34m\u001b[0m\u001b[0m\n",
      "\u001b[0;32m~/opt/anaconda3/lib/python3.9/urllib/request.py\u001b[0m in \u001b[0;36mopen\u001b[0;34m(self, fullurl, data, timeout)\u001b[0m\n\u001b[1;32m    521\u001b[0m         \u001b[0;32mfor\u001b[0m \u001b[0mprocessor\u001b[0m \u001b[0;32min\u001b[0m \u001b[0mself\u001b[0m\u001b[0;34m.\u001b[0m\u001b[0mprocess_response\u001b[0m\u001b[0;34m.\u001b[0m\u001b[0mget\u001b[0m\u001b[0;34m(\u001b[0m\u001b[0mprotocol\u001b[0m\u001b[0;34m,\u001b[0m \u001b[0;34m[\u001b[0m\u001b[0;34m]\u001b[0m\u001b[0;34m)\u001b[0m\u001b[0;34m:\u001b[0m\u001b[0;34m\u001b[0m\u001b[0;34m\u001b[0m\u001b[0m\n\u001b[1;32m    522\u001b[0m             \u001b[0mmeth\u001b[0m \u001b[0;34m=\u001b[0m \u001b[0mgetattr\u001b[0m\u001b[0;34m(\u001b[0m\u001b[0mprocessor\u001b[0m\u001b[0;34m,\u001b[0m \u001b[0mmeth_name\u001b[0m\u001b[0;34m)\u001b[0m\u001b[0;34m\u001b[0m\u001b[0;34m\u001b[0m\u001b[0m\n\u001b[0;32m--> 523\u001b[0;31m             \u001b[0mresponse\u001b[0m \u001b[0;34m=\u001b[0m \u001b[0mmeth\u001b[0m\u001b[0;34m(\u001b[0m\u001b[0mreq\u001b[0m\u001b[0;34m,\u001b[0m \u001b[0mresponse\u001b[0m\u001b[0;34m)\u001b[0m\u001b[0;34m\u001b[0m\u001b[0;34m\u001b[0m\u001b[0m\n\u001b[0m\u001b[1;32m    524\u001b[0m \u001b[0;34m\u001b[0m\u001b[0m\n\u001b[1;32m    525\u001b[0m         \u001b[0;32mreturn\u001b[0m \u001b[0mresponse\u001b[0m\u001b[0;34m\u001b[0m\u001b[0;34m\u001b[0m\u001b[0m\n",
      "\u001b[0;32m~/opt/anaconda3/lib/python3.9/urllib/request.py\u001b[0m in \u001b[0;36mhttp_response\u001b[0;34m(self, request, response)\u001b[0m\n\u001b[1;32m    630\u001b[0m         \u001b[0;31m# request was successfully received, understood, and accepted.\u001b[0m\u001b[0;34m\u001b[0m\u001b[0;34m\u001b[0m\u001b[0m\n\u001b[1;32m    631\u001b[0m         \u001b[0;32mif\u001b[0m \u001b[0;32mnot\u001b[0m \u001b[0;34m(\u001b[0m\u001b[0;36m200\u001b[0m \u001b[0;34m<=\u001b[0m \u001b[0mcode\u001b[0m \u001b[0;34m<\u001b[0m \u001b[0;36m300\u001b[0m\u001b[0;34m)\u001b[0m\u001b[0;34m:\u001b[0m\u001b[0;34m\u001b[0m\u001b[0;34m\u001b[0m\u001b[0m\n\u001b[0;32m--> 632\u001b[0;31m             response = self.parent.error(\n\u001b[0m\u001b[1;32m    633\u001b[0m                 'http', request, response, code, msg, hdrs)\n\u001b[1;32m    634\u001b[0m \u001b[0;34m\u001b[0m\u001b[0m\n",
      "\u001b[0;32m~/opt/anaconda3/lib/python3.9/urllib/request.py\u001b[0m in \u001b[0;36merror\u001b[0;34m(self, proto, *args)\u001b[0m\n\u001b[1;32m    559\u001b[0m         \u001b[0;32mif\u001b[0m \u001b[0mhttp_err\u001b[0m\u001b[0;34m:\u001b[0m\u001b[0;34m\u001b[0m\u001b[0;34m\u001b[0m\u001b[0m\n\u001b[1;32m    560\u001b[0m             \u001b[0margs\u001b[0m \u001b[0;34m=\u001b[0m \u001b[0;34m(\u001b[0m\u001b[0mdict\u001b[0m\u001b[0;34m,\u001b[0m \u001b[0;34m'default'\u001b[0m\u001b[0;34m,\u001b[0m \u001b[0;34m'http_error_default'\u001b[0m\u001b[0;34m)\u001b[0m \u001b[0;34m+\u001b[0m \u001b[0morig_args\u001b[0m\u001b[0;34m\u001b[0m\u001b[0;34m\u001b[0m\u001b[0m\n\u001b[0;32m--> 561\u001b[0;31m             \u001b[0;32mreturn\u001b[0m \u001b[0mself\u001b[0m\u001b[0;34m.\u001b[0m\u001b[0m_call_chain\u001b[0m\u001b[0;34m(\u001b[0m\u001b[0;34m*\u001b[0m\u001b[0margs\u001b[0m\u001b[0;34m)\u001b[0m\u001b[0;34m\u001b[0m\u001b[0;34m\u001b[0m\u001b[0m\n\u001b[0m\u001b[1;32m    562\u001b[0m \u001b[0;34m\u001b[0m\u001b[0m\n\u001b[1;32m    563\u001b[0m \u001b[0;31m# XXX probably also want an abstract factory that knows when it makes\u001b[0m\u001b[0;34m\u001b[0m\u001b[0;34m\u001b[0m\u001b[0m\n",
      "\u001b[0;32m~/opt/anaconda3/lib/python3.9/urllib/request.py\u001b[0m in \u001b[0;36m_call_chain\u001b[0;34m(self, chain, kind, meth_name, *args)\u001b[0m\n\u001b[1;32m    492\u001b[0m         \u001b[0;32mfor\u001b[0m \u001b[0mhandler\u001b[0m \u001b[0;32min\u001b[0m \u001b[0mhandlers\u001b[0m\u001b[0;34m:\u001b[0m\u001b[0;34m\u001b[0m\u001b[0;34m\u001b[0m\u001b[0m\n\u001b[1;32m    493\u001b[0m             \u001b[0mfunc\u001b[0m \u001b[0;34m=\u001b[0m \u001b[0mgetattr\u001b[0m\u001b[0;34m(\u001b[0m\u001b[0mhandler\u001b[0m\u001b[0;34m,\u001b[0m \u001b[0mmeth_name\u001b[0m\u001b[0;34m)\u001b[0m\u001b[0;34m\u001b[0m\u001b[0;34m\u001b[0m\u001b[0m\n\u001b[0;32m--> 494\u001b[0;31m             \u001b[0mresult\u001b[0m \u001b[0;34m=\u001b[0m \u001b[0mfunc\u001b[0m\u001b[0;34m(\u001b[0m\u001b[0;34m*\u001b[0m\u001b[0margs\u001b[0m\u001b[0;34m)\u001b[0m\u001b[0;34m\u001b[0m\u001b[0;34m\u001b[0m\u001b[0m\n\u001b[0m\u001b[1;32m    495\u001b[0m             \u001b[0;32mif\u001b[0m \u001b[0mresult\u001b[0m \u001b[0;32mis\u001b[0m \u001b[0;32mnot\u001b[0m \u001b[0;32mNone\u001b[0m\u001b[0;34m:\u001b[0m\u001b[0;34m\u001b[0m\u001b[0;34m\u001b[0m\u001b[0m\n\u001b[1;32m    496\u001b[0m                 \u001b[0;32mreturn\u001b[0m \u001b[0mresult\u001b[0m\u001b[0;34m\u001b[0m\u001b[0;34m\u001b[0m\u001b[0m\n",
      "\u001b[0;32m~/opt/anaconda3/lib/python3.9/urllib/request.py\u001b[0m in \u001b[0;36mhttp_error_default\u001b[0;34m(self, req, fp, code, msg, hdrs)\u001b[0m\n\u001b[1;32m    639\u001b[0m \u001b[0;32mclass\u001b[0m \u001b[0mHTTPDefaultErrorHandler\u001b[0m\u001b[0;34m(\u001b[0m\u001b[0mBaseHandler\u001b[0m\u001b[0;34m)\u001b[0m\u001b[0;34m:\u001b[0m\u001b[0;34m\u001b[0m\u001b[0;34m\u001b[0m\u001b[0m\n\u001b[1;32m    640\u001b[0m     \u001b[0;32mdef\u001b[0m \u001b[0mhttp_error_default\u001b[0m\u001b[0;34m(\u001b[0m\u001b[0mself\u001b[0m\u001b[0;34m,\u001b[0m \u001b[0mreq\u001b[0m\u001b[0;34m,\u001b[0m \u001b[0mfp\u001b[0m\u001b[0;34m,\u001b[0m \u001b[0mcode\u001b[0m\u001b[0;34m,\u001b[0m \u001b[0mmsg\u001b[0m\u001b[0;34m,\u001b[0m \u001b[0mhdrs\u001b[0m\u001b[0;34m)\u001b[0m\u001b[0;34m:\u001b[0m\u001b[0;34m\u001b[0m\u001b[0;34m\u001b[0m\u001b[0m\n\u001b[0;32m--> 641\u001b[0;31m         \u001b[0;32mraise\u001b[0m \u001b[0mHTTPError\u001b[0m\u001b[0;34m(\u001b[0m\u001b[0mreq\u001b[0m\u001b[0;34m.\u001b[0m\u001b[0mfull_url\u001b[0m\u001b[0;34m,\u001b[0m \u001b[0mcode\u001b[0m\u001b[0;34m,\u001b[0m \u001b[0mmsg\u001b[0m\u001b[0;34m,\u001b[0m \u001b[0mhdrs\u001b[0m\u001b[0;34m,\u001b[0m \u001b[0mfp\u001b[0m\u001b[0;34m)\u001b[0m\u001b[0;34m\u001b[0m\u001b[0;34m\u001b[0m\u001b[0m\n\u001b[0m\u001b[1;32m    642\u001b[0m \u001b[0;34m\u001b[0m\u001b[0m\n\u001b[1;32m    643\u001b[0m \u001b[0;32mclass\u001b[0m \u001b[0mHTTPRedirectHandler\u001b[0m\u001b[0;34m(\u001b[0m\u001b[0mBaseHandler\u001b[0m\u001b[0;34m)\u001b[0m\u001b[0;34m:\u001b[0m\u001b[0;34m\u001b[0m\u001b[0;34m\u001b[0m\u001b[0m\n",
      "\u001b[0;31mHTTPError\u001b[0m: HTTP Error 500: Internal Server Error"
     ]
    }
   ],
   "source": [
    "import json\n",
    "import urllib.request\n",
    "\n",
    "url = \"https://www.safekorea.go.kr/idsiSFK/neo/main/main.json\"\n",
    "text_data = urllib.request.urlopen(url).read().decode('utf-8')\n",
    "hoo = json.loads(text_data)"
   ]
  },
  {
   "cell_type": "code",
   "execution_count": 20,
   "metadata": {},
   "outputs": [
    {
     "ename": "JSONDecodeError",
     "evalue": "Expecting value: line 1 column 1 (char 0)",
     "output_type": "error",
     "traceback": [
      "\u001b[0;31m---------------------------------------------------------------------------\u001b[0m",
      "\u001b[0;31mJSONDecodeError\u001b[0m                           Traceback (most recent call last)",
      "\u001b[0;32m/var/folders/cz/4xtfjr653pz758qt8_db9gvr0000gn/T/ipykernel_12968/3302072736.py\u001b[0m in \u001b[0;36m<module>\u001b[0;34m\u001b[0m\n\u001b[1;32m      4\u001b[0m \u001b[0murl\u001b[0m \u001b[0;34m=\u001b[0m \u001b[0;34m\"https://www.safekorea.go.kr/\"\u001b[0m\u001b[0;34m\u001b[0m\u001b[0;34m\u001b[0m\u001b[0m\n\u001b[1;32m      5\u001b[0m \u001b[0mresponse\u001b[0m \u001b[0;34m=\u001b[0m \u001b[0mrequests\u001b[0m\u001b[0;34m.\u001b[0m\u001b[0mget\u001b[0m\u001b[0;34m(\u001b[0m\u001b[0murl\u001b[0m\u001b[0;34m)\u001b[0m\u001b[0;34m\u001b[0m\u001b[0;34m\u001b[0m\u001b[0m\n\u001b[0;32m----> 6\u001b[0;31m \u001b[0mdata\u001b[0m \u001b[0;34m=\u001b[0m \u001b[0mjson\u001b[0m\u001b[0;34m.\u001b[0m\u001b[0mloads\u001b[0m\u001b[0;34m(\u001b[0m\u001b[0mresponse\u001b[0m\u001b[0;34m.\u001b[0m\u001b[0mtext\u001b[0m\u001b[0;34m)\u001b[0m\u001b[0;34m\u001b[0m\u001b[0;34m\u001b[0m\u001b[0m\n\u001b[0m\u001b[1;32m      7\u001b[0m \u001b[0mprint\u001b[0m\u001b[0;34m(\u001b[0m\u001b[0mdata\u001b[0m\u001b[0;34m)\u001b[0m\u001b[0;34m\u001b[0m\u001b[0;34m\u001b[0m\u001b[0m\n",
      "\u001b[0;32m~/opt/anaconda3/lib/python3.9/json/__init__.py\u001b[0m in \u001b[0;36mloads\u001b[0;34m(s, cls, object_hook, parse_float, parse_int, parse_constant, object_pairs_hook, **kw)\u001b[0m\n\u001b[1;32m    344\u001b[0m             \u001b[0mparse_int\u001b[0m \u001b[0;32mis\u001b[0m \u001b[0;32mNone\u001b[0m \u001b[0;32mand\u001b[0m \u001b[0mparse_float\u001b[0m \u001b[0;32mis\u001b[0m \u001b[0;32mNone\u001b[0m \u001b[0;32mand\u001b[0m\u001b[0;34m\u001b[0m\u001b[0;34m\u001b[0m\u001b[0m\n\u001b[1;32m    345\u001b[0m             parse_constant is None and object_pairs_hook is None and not kw):\n\u001b[0;32m--> 346\u001b[0;31m         \u001b[0;32mreturn\u001b[0m \u001b[0m_default_decoder\u001b[0m\u001b[0;34m.\u001b[0m\u001b[0mdecode\u001b[0m\u001b[0;34m(\u001b[0m\u001b[0ms\u001b[0m\u001b[0;34m)\u001b[0m\u001b[0;34m\u001b[0m\u001b[0;34m\u001b[0m\u001b[0m\n\u001b[0m\u001b[1;32m    347\u001b[0m     \u001b[0;32mif\u001b[0m \u001b[0mcls\u001b[0m \u001b[0;32mis\u001b[0m \u001b[0;32mNone\u001b[0m\u001b[0;34m:\u001b[0m\u001b[0;34m\u001b[0m\u001b[0;34m\u001b[0m\u001b[0m\n\u001b[1;32m    348\u001b[0m         \u001b[0mcls\u001b[0m \u001b[0;34m=\u001b[0m \u001b[0mJSONDecoder\u001b[0m\u001b[0;34m\u001b[0m\u001b[0;34m\u001b[0m\u001b[0m\n",
      "\u001b[0;32m~/opt/anaconda3/lib/python3.9/json/decoder.py\u001b[0m in \u001b[0;36mdecode\u001b[0;34m(self, s, _w)\u001b[0m\n\u001b[1;32m    335\u001b[0m \u001b[0;34m\u001b[0m\u001b[0m\n\u001b[1;32m    336\u001b[0m         \"\"\"\n\u001b[0;32m--> 337\u001b[0;31m         \u001b[0mobj\u001b[0m\u001b[0;34m,\u001b[0m \u001b[0mend\u001b[0m \u001b[0;34m=\u001b[0m \u001b[0mself\u001b[0m\u001b[0;34m.\u001b[0m\u001b[0mraw_decode\u001b[0m\u001b[0;34m(\u001b[0m\u001b[0ms\u001b[0m\u001b[0;34m,\u001b[0m \u001b[0midx\u001b[0m\u001b[0;34m=\u001b[0m\u001b[0m_w\u001b[0m\u001b[0;34m(\u001b[0m\u001b[0ms\u001b[0m\u001b[0;34m,\u001b[0m \u001b[0;36m0\u001b[0m\u001b[0;34m)\u001b[0m\u001b[0;34m.\u001b[0m\u001b[0mend\u001b[0m\u001b[0;34m(\u001b[0m\u001b[0;34m)\u001b[0m\u001b[0;34m)\u001b[0m\u001b[0;34m\u001b[0m\u001b[0;34m\u001b[0m\u001b[0m\n\u001b[0m\u001b[1;32m    338\u001b[0m         \u001b[0mend\u001b[0m \u001b[0;34m=\u001b[0m \u001b[0m_w\u001b[0m\u001b[0;34m(\u001b[0m\u001b[0ms\u001b[0m\u001b[0;34m,\u001b[0m \u001b[0mend\u001b[0m\u001b[0;34m)\u001b[0m\u001b[0;34m.\u001b[0m\u001b[0mend\u001b[0m\u001b[0;34m(\u001b[0m\u001b[0;34m)\u001b[0m\u001b[0;34m\u001b[0m\u001b[0;34m\u001b[0m\u001b[0m\n\u001b[1;32m    339\u001b[0m         \u001b[0;32mif\u001b[0m \u001b[0mend\u001b[0m \u001b[0;34m!=\u001b[0m \u001b[0mlen\u001b[0m\u001b[0;34m(\u001b[0m\u001b[0ms\u001b[0m\u001b[0;34m)\u001b[0m\u001b[0;34m:\u001b[0m\u001b[0;34m\u001b[0m\u001b[0;34m\u001b[0m\u001b[0m\n",
      "\u001b[0;32m~/opt/anaconda3/lib/python3.9/json/decoder.py\u001b[0m in \u001b[0;36mraw_decode\u001b[0;34m(self, s, idx)\u001b[0m\n\u001b[1;32m    353\u001b[0m             \u001b[0mobj\u001b[0m\u001b[0;34m,\u001b[0m \u001b[0mend\u001b[0m \u001b[0;34m=\u001b[0m \u001b[0mself\u001b[0m\u001b[0;34m.\u001b[0m\u001b[0mscan_once\u001b[0m\u001b[0;34m(\u001b[0m\u001b[0ms\u001b[0m\u001b[0;34m,\u001b[0m \u001b[0midx\u001b[0m\u001b[0;34m)\u001b[0m\u001b[0;34m\u001b[0m\u001b[0;34m\u001b[0m\u001b[0m\n\u001b[1;32m    354\u001b[0m         \u001b[0;32mexcept\u001b[0m \u001b[0mStopIteration\u001b[0m \u001b[0;32mas\u001b[0m \u001b[0merr\u001b[0m\u001b[0;34m:\u001b[0m\u001b[0;34m\u001b[0m\u001b[0;34m\u001b[0m\u001b[0m\n\u001b[0;32m--> 355\u001b[0;31m             \u001b[0;32mraise\u001b[0m \u001b[0mJSONDecodeError\u001b[0m\u001b[0;34m(\u001b[0m\u001b[0;34m\"Expecting value\"\u001b[0m\u001b[0;34m,\u001b[0m \u001b[0ms\u001b[0m\u001b[0;34m,\u001b[0m \u001b[0merr\u001b[0m\u001b[0;34m.\u001b[0m\u001b[0mvalue\u001b[0m\u001b[0;34m)\u001b[0m \u001b[0;32mfrom\u001b[0m \u001b[0;32mNone\u001b[0m\u001b[0;34m\u001b[0m\u001b[0;34m\u001b[0m\u001b[0m\n\u001b[0m\u001b[1;32m    356\u001b[0m         \u001b[0;32mreturn\u001b[0m \u001b[0mobj\u001b[0m\u001b[0;34m,\u001b[0m \u001b[0mend\u001b[0m\u001b[0;34m\u001b[0m\u001b[0;34m\u001b[0m\u001b[0m\n",
      "\u001b[0;31mJSONDecodeError\u001b[0m: Expecting value: line 1 column 1 (char 0)"
     ]
    }
   ],
   "source": [
    "import requests\n",
    "import json\n",
    "\n",
    "url = \"https://www.safekorea.go.kr/\"\n",
    "response = requests.get(url)\n",
    "data = json.loads(response.text)\n",
    "print(data)"
   ]
  },
  {
   "cell_type": "code",
   "execution_count": 22,
   "metadata": {},
   "outputs": [
    {
     "name": "stderr",
     "output_type": "stream",
     "text": [
      "/var/folders/cz/4xtfjr653pz758qt8_db9gvr0000gn/T/ipykernel_12968/2942171701.py:16: DeprecationWarning: executable_path has been deprecated, please pass in a Service object\n",
      "  driver = webdriver.Chrome(executable_path=chrome_driver_path, options=chrome_options)\n"
     ]
    },
    {
     "name": "stdout",
     "output_type": "stream",
     "text": [
      "<li><span class=\"org\">행정안전부</span><strong>2023/05/04 09:09:28</strong> 오늘 09시 00분, 전남(해남, 완도, 진도) 호우주의보 발효. 대중교통을 이용, 빗길안전에 주의바랍니다.</li>\n",
      "<li><span class=\"org\">행정안전부</span><strong>2023/05/04 08:50:44</strong> 오늘 08시50분 제주(제주남부중산간,제주남부) 호우경보, 산사태ㆍ상습침수 등 위험지역 대피, 외출자제 등 안전에 주의바랍니다</li>\n",
      "<li><span class=\"org\">충남경찰청</span><strong>2023/05/04 08:45:52</strong> 논산시에서 목격된 손덕상씨(남, 73세)를 찾습니다 - 169cm, 68kg, 검정조끼, 빨강추리닝바지 vo.la/z3Joq / ☎182</li>\n",
      "<li><span class=\"org\">충남경찰청</span><strong>2023/05/04 08:45:22</strong> 계룡시에서 목격된 손덕상씨(남, 73세)를 찾습니다 - 169cm, 68kg, 검정조끼, 빨강추리닝바지 vo.la/z3Joq / ☎182</li>\n",
      "<li><span class=\"org\">행정안전부</span><strong>2023/05/04 05:56:43</strong> 오늘 06시00분 제주(제주산간) 호우경보, 산사태ㆍ상습침수 등 위험지역 대피, 외출자제 등 안전에 주의바랍니다</li>\n"
     ]
    }
   ],
   "source": [
    "from selenium import webdriver\n",
    "from selenium.webdriver.chrome.options import Options\n",
    "from bs4 import BeautifulSoup\n",
    "\n",
    "# 웹 페이지 URL\n",
    "url = 'https://www.safekorea.go.kr/idsiSFK/neo/main/main.html'  # 실제 웹 페이지 URL로 교체해주세요.\n",
    "\n",
    "# 크롬 웹 드라이버 경로 설정\n",
    "chrome_driver_path = 'project1/crawling/chromedriver_mac_arm64/chromedriver'  # 실제 Chrome 웹 드라이버 경로로 교체해주세요.\n",
    "\n",
    "# 옵션 설정 (headless 모드)\n",
    "chrome_options = Options()\n",
    "chrome_options.add_argument(\"--headless\")\n",
    "\n",
    "# 웹 드라이버 실행 및 웹 페이지 로드\n",
    "driver = webdriver.Chrome(executable_path=chrome_driver_path, options=chrome_options)\n",
    "driver.get(url)\n",
    "\n",
    "# 필요한 경우 JavaScript 함수 실행 (예: fn_search())\n",
    "#driver.execute_script('fn_search()')\n",
    "\n",
    "# 웹 페이지의 변경된 내용 가져오기\n",
    "html_content = driver.page_source\n",
    "\n",
    "# BeautifulSoup 객체 생성\n",
    "soup = BeautifulSoup(html_content, 'html.parser')\n",
    "\n",
    "# 'gen' 요소와 하위 'li' 태그 가져오기\n",
    "gen_element = soup.find(id='gen')\n",
    "li_elements = gen_element.find_all('li')\n",
    "\n",
    "# 각 'li' 요소의 HTML 내용 출력\n",
    "for li in li_elements:\n",
    "    print(li)\n",
    "\n",
    "# 웹 드라이버 종료\n",
    "driver.quit()\n"
   ]
  },
  {
   "cell_type": "code",
   "execution_count": 4,
   "metadata": {},
   "outputs": [
    {
     "name": "stdout",
     "output_type": "stream",
     "text": [
      " * Serving Flask app \"__main__\" (lazy loading)\n",
      " * Environment: production\n",
      "\u001b[31m   WARNING: This is a development server. Do not use it in a production deployment.\u001b[0m\n",
      "\u001b[2m   Use a production WSGI server instead.\u001b[0m\n",
      " * Debug mode: off\n"
     ]
    },
    {
     "name": "stderr",
     "output_type": "stream",
     "text": [
      " * Running on http://127.0.0.1:8000/ (Press CTRL+C to quit)\n",
      "127.0.0.1 - - [04/May/2023 13:06:30] \"GET / HTTP/1.1\" 200 -\n",
      "127.0.0.1 - - [04/May/2023 13:06:30] \"GET /favicon.ico HTTP/1.1\" 404 -\n"
     ]
    }
   ],
   "source": [
    "from flask import Flask, request\n",
    "\n",
    "app = Flask(__name__)\n",
    "\n",
    "@app.route('/')\n",
    "def home():\n",
    "    return '<h1>Button Example</h1><button onclick=\"location.href=\\'/execute_function\\'\">Execute Function</button>'\n",
    "\n",
    "@app.route('/execute_function')\n",
    "def execute_function():\n",
    "    # 실행할 함수 구현\n",
    "    print(\"Function ed.\")\n",
    "    return 'Function executed.'\n",
    "\n",
    "if __name__ == '__main__':\n",
    "    app.run(port=8000)\n"
   ]
  },
  {
   "cell_type": "code",
   "execution_count": 20,
   "metadata": {},
   "outputs": [
    {
     "name": "stdout",
     "output_type": "stream",
     "text": [
      "{'DisasterMsg': [{'head': [{'totalCount': 174473}, {'numOfRows': '10', 'pageNo': '1', 'type': 'JSON'}, {'RESULT': {'resultCode': 'INFO-0', 'resultMsg': 'NOMAL SERVICE'}}]}, {'row': [{'create_date': '2023/05/13 15:31:21', 'location_id': '240', 'location_name': '충청북도 단양군', 'md101_sn': '195033', 'msg': '[단양군청]구인사에서 노인 실종. 머리가 짧고, 상의 베이지색 승복, 하의 곤색 트레이닝복, 흰색실내화. 치매증상, 왼쪽팔불편,노란 지팡이소지.발견즉시 112신고', 'send_platform': 'cbs'}, {'create_date': '2023/05/13 12:49:11', 'location_id': '174', 'location_name': '인천광역시 부평구', 'md101_sn': '195032', 'msg': '[인천경찰청] 부평구에서 배회중인 유지연(여,14세)를 찾습니다-155cm, 50kg, 회색반팔티, 검정반바지, 묶은머리 \\r\\nvo.la/5VGYf / ☎182', 'send_platform': 'cbs'}, {'create_date': '2023/05/13 12:46:17', 'location_id': '143', 'location_name': '서울특별시 구로구', 'md101_sn': '195031', 'msg': '[서울경찰청] 구로구에서 실종된 유지연(여, 14세)를 찾습니다-155cm, 50kg, 회색반팔티,검정반바지,묶은머리 \\r\\nvo.la/5VGYf / ☎182', 'send_platform': 'cbs'}, {'create_date': '2023/05/13 12:27:10', 'location_id': '109', 'location_name': '대구광역시 북구', 'md101_sn': '195030', 'msg': '[대구경찰청] 경찰은 북구에서 실종된 허영옥씨(여, 68세)를 찾습니다 - 155cm, 60kg, 연핑크티셔츠, 얼룩무늬바지\\r\\nvo.la/bd0KK / ☎182', 'send_platform': 'cbs'}, {'create_date': '2023/05/13 11:28:25', 'location_id': '3', 'location_name': '강원도 강릉시', 'md101_sn': '195029', 'msg': '[강원경찰청] 경찰은 강릉시에서 목격된 이지안(남, 14세)를 찾습니다 - 170cm, 65kg, 뿔테안경, 보라색신발착용 vo.la/g5V07 / ☎182', 'send_platform': 'cbs'}, {'create_date': '2023/05/13 11:18:57', 'location_id': '3', 'location_name': '강원도 강릉시', 'md101_sn': '195028', 'msg': '[강원경찰청] 경찰은 강릉시에서 목격된 김성주(남, 14세)를 찾습니다 - 173cm, 85kg, 바가지머리, 안경착용 vo.la/H3D6m / ☎182', 'send_platform': 'cbs'}, {'create_date': '2023/05/13 11:07:45', 'location_id': '127', 'location_name': '부산광역시 북구', 'md101_sn': '195027', 'msg': '[부산경찰청] 경찰은 북구에서 배회중인 김하정씨(여, 49세)를 찾습니다 - 156cm, 60kg, 회색추리닝바지,맨발차림 vo.la/aJ8WN / ☎182', 'send_platform': 'cbs'}, {'create_date': '2023/05/13 11:07:10', 'location_id': '125', 'location_name': '부산광역시 동래구', 'md101_sn': '195026', 'msg': '[부산경찰청] 경찰은 동래구에서 실종된 김하정씨(여, 49세)를 찾습니다 - 156cm, 60kg, 회색추리닝바지,맨발로배회중 vo.la/aJ8WN / ☎182', 'send_platform': 'cbs'}, {'create_date': '2023/05/13 10:47:49', 'location_id': '133', 'location_name': '부산광역시 영도구', 'md101_sn': '195025', 'msg': '[부산경찰청] 영도구에서 실종된 장귀주씨(남, 66세)를 찾습니다 - 155cm, 54kg, 파랑잠바,검정바지,검정신발,모자 vo.la/9i4Vu / ☎182', 'send_platform': 'cbs'}, {'create_date': '2023/05/12 20:11:21', 'location_id': '141,148,156', 'location_name': '서울특별시 관악구,서울특별시 동작구,서울특별시 영등포구', 'md101_sn': '195024', 'msg': '[서울특별시청] 현재 신림선 신호장치 고장은 복구 완료되어 전 구간 운행재개 되었음을 알려드립니다.', 'send_platform': 'cbs'}]}]}\n"
     ]
    }
   ],
   "source": [
    "import requests\n",
    "\n",
    "\n",
    "url = \"https://apis.data.go.kr/1741000/DisasterMsg3/getDisasterMsg1List?serviceKey=DCEWLmC5o0ec6lJ%2FsTpRPUFLDnn8eH24STfRT5ZxbqR9BQBOk0i484ELM%2BBMVgC3YDKc8SiGrtkcs17Skrp97A%3D%3D&pageNo=1&numOfRows=10&type=json\"\n",
    "\n",
    "\n",
    "response = requests.get(url)\n",
    "\n",
    "print(response.json())"
   ]
  },
  {
   "cell_type": "code",
   "execution_count": 27,
   "metadata": {},
   "outputs": [
    {
     "name": "stdout",
     "output_type": "stream",
     "text": [
      "create_date: 2023/05/13 19:57:26\n",
      "location_name: 경기도 안양시 만안구\n",
      "msg: [경기남부경찰청] 만안구에서 배회중인 문화자씨(여, 87세)를 찾습니다 - 135cm, 40kg, 밤색상하의,백발,푸른계통유모차 vo.la/fkhH0 / ☎182\n",
      "\n",
      "create_date: 2023/05/13 19:56:56\n",
      "location_name: 서울특별시 금천구\n",
      "msg: [서울경찰청] 금천구에서 실종된 문화자씨(여, 87세)를 찾습니다 - 135cm, 40kg, 밤색상하의, 백발, 푸른계통유모차 vo.la/fkhH0 / ☎182\n",
      "\n",
      "create_date: 2023/05/13 18:19:10\n",
      "location_name: 대전광역시 서구\n",
      "msg: [대전경찰청] 경찰은 서구에서 목격된 조동산씨(남, 88세)를 찾습니다 - 165cm, 65kg, 하늘색점퍼,모자착용,코끝에점 vo.la/Mw5MB / ☎182\n",
      "\n",
      "create_date: 2023/05/13 18:18:40\n",
      "location_name: 대전광역시 중구\n",
      "msg: [대전경찰청] 경찰은 중구에서 실종된 조동산씨(남, 88세)를 찾습니다 - 165cm, 65kg, 하늘색점퍼,모자착용,코끝에점 vo.la/Mw5MB / ☎182\n",
      "\n",
      "create_date: 2023/05/13 18:01:04\n",
      "location_name: 경기도 파주시\n",
      "msg: [경기북부경찰청] 경찰은 파주시에서 실종된 정혁주(남, 7세)를 찾습니다 - 130cm, 30kg, 검정상하의, 검정신발 vo.la/6abKH / ☎182\n",
      "\n",
      "create_date: 2023/05/13 17:26:22\n",
      "location_name: 서울특별시 동작구\n",
      "msg: [서울경찰청] 동작구에서 배회중인 홍성현씨(남, 86세)를 찾습니다 - 160cm,55kg,보라점퍼,검정바지,검정운동화,흰마스크 vo.la/T9MYF / ☎182\n",
      "\n",
      "create_date: 2023/05/13 17:25:52\n",
      "location_name: 서울특별시 영등포구\n",
      "msg: [서울경찰청] 영등포구에서 실종된 홍성현씨(남, 86세)를 찾습니다 - 160cm,55kg,보라점퍼,검정바지,검정운동화,흰마스크 vo.la/T9MYF / ☎182\n",
      "\n",
      "create_date: 2023/05/13 16:52:02\n",
      "location_name: 서울특별시 노원구\n",
      "msg: [서울경찰청] 노원구에서 배회중인 김수현씨(남, 81세)를 찾습니다 - 160cm, 55kg, 남색경량패딩,검정바지,신발미착용 vo.la/iFD94 / ☎182\n",
      "\n",
      "create_date: 2023/05/13 15:31:21\n",
      "location_name: 충청북도 단양군\n",
      "msg: [단양군청]구인사에서 노인 실종. 머리가 짧고, 상의 베이지색 승복, 하의 곤색 트레이닝복, 흰색실내화. 치매증상, 왼쪽팔불편,노란 지팡이소지.발견즉시 112신고\n",
      "\n",
      "create_date: 2023/05/13 12:49:11\n",
      "location_name: 인천광역시 부평구\n",
      "msg: [인천경찰청] 부평구에서 배회중인 유지연(여,14세)를 찾습니다-155cm, 50kg, 회색반팔티, 검정반바지, 묶은머리 \n",
      "vo.la/5VGYf / ☎182\n",
      "\n"
     ]
    }
   ],
   "source": [
    "import json\n",
    "import sqlite3worker\n",
    "\n",
    "\n",
    "with open('sample.json','r') as file:\n",
    "    parsed_data = json.load(file)\n",
    "\n",
    "\n",
    "for item in parsed_data['DisasterMsg'][1]['row']:\n",
    "    print(\"create_date:\", item['create_date'])\n",
    "    print(\"location_name:\", item['location_name'])\n",
    "    print(\"msg:\", item['msg'])\n",
    "    print()"
   ]
  },
  {
   "attachments": {},
   "cell_type": "markdown",
   "metadata": {},
   "source": []
  },
  {
   "cell_type": "code",
   "execution_count": 36,
   "metadata": {},
   "outputs": [],
   "source": [
    "import json\n",
    "import sqlite3\n",
    "import requests as requests\n",
    "\n",
    "\n",
    "\n",
    "url = \"http://apis.data.go.kr/1741000/DisasterMsg3/getDisasterMsg1List?serviceKey=DCEWLmC5o0ec6lJ%2FsTpRPUFLDnn8eH24STfRT5ZxbqR9BQBOk0i484ELM%2BBMVgC3YDKc8SiGrtkcs17Skrp97A%3D%3D&pageNo=1&numOfRows=10&type=json\"\n",
    "\n",
    "\n",
    "response = requests.get(url)\n",
    "\n",
    "jdata = response.json()\n",
    "\n",
    "\n",
    "json_data = json.loads(json.dumps(jdata))\n",
    "\n",
    "conn = sqlite3.connect('database.db')\n",
    "cursor = conn.cursor()\n",
    "\n",
    "\n",
    "cursor.execute('''CREATE TABLE IF NOT EXISTS my_table (\n",
    "                    create_date TEXT,\n",
    "                    location_name TEXT,\n",
    "                    msg TEXT\n",
    "                )''')\n",
    "\n",
    "\n",
    "for item in json_data['DisasterMsg'][1]['row']:\n",
    "    create_date = item['create_date']\n",
    "    location_name = item['location_name']\n",
    "    msg = item['msg']\n",
    "    cursor.execute(\"INSERT INTO my_table (create_date, location_name, msg) VALUES (?, ?, ?)\",\n",
    "                   (create_date, location_name, msg))\n",
    "\n",
    "\n",
    "conn.commit()\n",
    "conn.close()"
   ]
  },
  {
   "cell_type": "code",
   "execution_count": 4,
   "metadata": {},
   "outputs": [
    {
     "name": "stdout",
     "output_type": "stream",
     "text": [
      "제목: [팩플] “네이버, 잡코인이 메인코인 둔갑할 위험 수수방관” 압박 수위 높이...\n",
      "링크: https://www.joongang.co.kr/article/25162958\n",
      "\n",
      "제목: [심층취재] 숨 못 쉬게 코 막고 담배 물려…제대로 된 사과도 못 받아\n",
      "링크: https://news.kbs.co.kr/news/view.do?ncd=7676850&ref=A\n",
      "\n",
      "제목: 박성중 \"네이버증권 가상자산 속보서비스, '코인 조작 허점' 방관\"\n",
      "링크: https://biz.sbs.co.kr/article_hub/20000118332?division=NAVER\n",
      "\n",
      "제목: 與 박성중, “‘네이버 가상자산 실시간 속보’서비스, 잡코인도 메인코인으로...\n",
      "링크: https://thepublic.kr/news/view/1065603118016105\n",
      "\n",
      "제목: [속보] 경기 남양주 화도읍 음식점 화재 \"주민 대피바람\"\n",
      "링크: https://www.gukjenews.com/news/articleView.html?idxno=2720267\n",
      "\n"
     ]
    }
   ],
   "source": [
    "import requests\n",
    "from bs4 import BeautifulSoup\n",
    "\n",
    "# URL 설정\n",
    "url = 'https://search.naver.com/search.naver?where=news&query=%EB%89%B4%EC%8A%A4%20%EC%86%8D%EB%B3%B4&sort=1&sm=tab_smr&nso=so:dd,p:all,a:all'\n",
    "\n",
    "\n",
    "# HTTP GET 요청\n",
    "response = requests.get(url)\n",
    "\n",
    "# BeautifulSoup 객체 생성\n",
    "soup = BeautifulSoup(response.text, 'html.parser')\n",
    "\n",
    "# 뉴스 기사 제목과 링크 추출\n",
    "news_articles = soup.find_all('a', class_='news_tit')[:5]\n",
    "\n",
    "for article in news_articles:\n",
    "    title = article.text\n",
    "    link = article['href']\n",
    "    print(f\"제목: {title}\")\n",
    "    print(f\"링크: {link}\")\n",
    "    print()"
   ]
  },
  {
   "cell_type": "code",
   "execution_count": 1,
   "metadata": {},
   "outputs": [
    {
     "name": "stdout",
     "output_type": "stream",
     "text": [
      "{'API': {'apiName': 'Corona-19-API-국내-발생현황', 'updateTime': '코로나19 국내 발생현황(2023년 05.20. 00시 기준)', 'dataSource': 'Goodbye-Corona-Bot-V2', 'resultCode': '200', 'resultMessage': '정상 처리되었습니다.', 'deathPcnt': 0.11}, 'korea': {'countryNm': '합계', 'totalCnt': 31524477, 'deathCnt': 34670, 'qurRate': 61285, 'incDec': 18106, 'incDecK': 18087, 'incDecF': 19}, 'seoul': {'countryNm': '서울', 'totalCnt': 6162486, 'deathCnt': 6469, 'qurRate': 65361, 'incDec': 4371, 'incDecK': 4371, 'incDecF': 0}, 'busan': {'countryNm': '부산', 'totalCnt': 1857353, 'deathCnt': 2847, 'qurRate': 55981, 'incDec': 953, 'incDecK': 952, 'incDecF': 1}, 'daegu': {'countryNm': '대구', 'totalCnt': 1368830, 'deathCnt': 2010, 'qurRate': 57911, 'incDec': 691, 'incDecK': 689, 'incDecF': 2}, 'incheon': {'countryNm': '인천', 'totalCnt': 1833916, 'deathCnt': 1919, 'qurRate': 61804, 'incDec': 992, 'incDecK': 992, 'incDecF': 0}, 'gwangju': {'countryNm': '광주', 'totalCnt': 918747, 'deathCnt': 832, 'qurRate': 64201, 'incDec': 488, 'incDecK': 487, 'incDecF': 1}, 'daejeon': {'countryNm': '대전', 'totalCnt': 920400, 'deathCnt': 958, 'qurRate': 63648, 'incDec': 488, 'incDecK': 488, 'incDecF': 0}, 'ulsan': {'countryNm': '울산', 'totalCnt': 666520, 'deathCnt': 532, 'qurRate': 60011, 'incDec': 259, 'incDecK': 258, 'incDecF': 1}, 'sejong': {'countryNm': '세종', 'totalCnt': 250713, 'deathCnt': 57, 'qurRate': 65359, 'incDec': 143, 'incDecK': 143, 'incDecF': 0}, 'gyeonggi': {'countryNm': '경기', 'totalCnt': 8536451, 'deathCnt': 8430, 'qurRate': 62817, 'incDec': 5031, 'incDecK': 5030, 'incDecF': 1}, 'gangwon': {'countryNm': '강원', 'totalCnt': 923876, 'deathCnt': 1338, 'qurRate': 60129, 'incDec': 543, 'incDecK': 543, 'incDecF': 0}, 'chungbuk': {'countryNm': '충북', 'totalCnt': 988369, 'deathCnt': 1050, 'qurRate': 61964, 'incDec': 568, 'incDecK': 568, 'incDecF': 0}, 'chungnam': {'countryNm': '충남', 'totalCnt': 1275028, 'deathCnt': 1600, 'qurRate': 60057, 'incDec': 689, 'incDecK': 689, 'incDecF': 0}, 'jeonbuk': {'countryNm': '전북', 'totalCnt': 1058816, 'deathCnt': 1234, 'qurRate': 59833, 'incDec': 557, 'incDecK': 557, 'incDecF': 0}, 'jeonnam': {'countryNm': '전남', 'totalCnt': 1031826, 'deathCnt': 1007, 'qurRate': 56766, 'incDec': 553, 'incDecK': 552, 'incDecF': 1}, 'gyeongbuk': {'countryNm': '경북', 'totalCnt': 1436793, 'deathCnt': 2109, 'qurRate': 55251, 'incDec': 598, 'incDecK': 597, 'incDecF': 1}, 'gyeongnam': {'countryNm': '경남', 'totalCnt': 1875710, 'deathCnt': 1981, 'qurRate': 57178, 'incDec': 867, 'incDecK': 867, 'incDecF': 0}, 'jeju': {'countryNm': '제주', 'totalCnt': 400338, 'deathCnt': 281, 'qurRate': 59033, 'incDec': 304, 'incDecK': 304, 'incDecF': 0}, 'quarantine': {'countryNm': '검역', 'totalCnt': 18305, 'deathCnt': 16, 'qurRate': 0, 'incDec': 11, 'incDecK': 0, 'incDecF': 11}}\n"
     ]
    }
   ],
   "source": [
    "import requests\n",
    "import json\n",
    "from bs4 import BeautifulSoup\n",
    "\n",
    "# JSON 데이터를 가져오는 API 또는 URL\n",
    "json_url = 'https://api.corona-19.kr/korea/?serviceKey=wglq7uzCRTX3itoVAKFkcUjmSLreEOGx9'\n",
    "\n",
    "\n",
    "# JSON 데이터 가져오기\n",
    "response = requests.get(json_url)\n",
    "json_data = response.json()\n",
    "\n",
    "print(json_data)"
   ]
  },
  {
   "cell_type": "code",
   "execution_count": 10,
   "metadata": {},
   "outputs": [
    {
     "name": "stdout",
     "output_type": "stream",
     "text": [
      "{'response': {'header': {'resultCode': '00', 'resultMsg': 'NORMAL_SERVICE'}, 'body': {'dataType': 'JSON', 'items': {'item': [{'cnt': 1, 'fcTp': 2, 'img': 'http://www.weather.go.kr/w/repositary/image/eqk/img/eqk_img_2_20230520105101.png', 'inT': '', 'lat': -23.06, 'loc': '뉴칼레도니아 누메아 동남동쪽 421km 해역 ', 'lon': 170.46, 'mt': 7.1, 'rem': '국내영향없음. 위 자료는 미지질조사소(USGS) 분석결과임.', 'stnId': 108, 'tmEqk': 20230520105101, 'tmFc': 202305201115, 'tmSeq': 527, 'dep': 36}, {'cnt': 1, 'fcTp': 3, 'img': 'http://www.weather.go.kr/w/repositary/image/eqk/img/eqk_img_3_20230519140334.png', 'inT': '최대진도 Ⅰ', 'lat': 41.28, 'loc': '북한 함경북도 길주 북북서쪽 38km 지역', 'lon': 129.17, 'mt': 2.3, 'rem': '자연지진으로 분석됨', 'stnId': 108, 'tmEqk': 20230519140334, 'tmFc': 202305191508, 'tmSeq': 524, 'dep': 15}, {'cnt': 1, 'fcTp': 2, 'img': 'http://www.weather.go.kr/w/repositary/image/eqk/img/eqk_img_2_20230519115706.png', 'inT': '', 'lat': -23.23, 'loc': '뉴칼레도니아 누메아 동남동쪽 448km 해역', 'lon': 170.69, 'mt': 7.7, 'rem': '국내영향없음. 위 자료는 미지질조사소(USGS) 분석결과임.', 'stnId': 108, 'tmEqk': 20230519115706, 'tmFc': 202305191220, 'tmSeq': 521, 'dep': 38}, {'cnt': 1, 'fcTp': 2, 'img': 'http://www.weather.go.kr/w/repositary/image/eqk/img/eqk_img_2_20230518080200.png', 'inT': '', 'lat': 15.12, 'loc': '과테말라 산타 크루즈 델 키체 동북동쪽 33km 지역', 'lon': -90.86, 'mt': 6.4, 'rem': '국내영향없음. 위 자료는 미지질조사소(USGS) 분석결과임.', 'stnId': 108, 'tmEqk': 20230518080200, 'tmFc': 202305180823, 'tmSeq': 516, 'dep': 256}]}, 'pageNo': 1, 'numOfRows': 10, 'totalCount': 4}}}\n"
     ]
    }
   ],
   "source": [
    "import requests\n",
    "import json\n",
    "from bs4 import BeautifulSoup\n",
    "\n",
    "from datetime import datetime, timedelta\n",
    "\n",
    "today = datetime.now().strftime(\"%Y%m%d\")\n",
    "today1=datetime.now()\n",
    "ago3 = (today1 - timedelta(days=3)).strftime(\"%Y%m%d\")\n",
    "# JSON 데이터를 가져오는 API 또는 URL\n",
    "\n",
    "\n",
    "json_url = f\"http://apis.data.go.kr/1360000/EqkInfoService/getEqkMsg?serviceKey=DCEWLmC5o0ec6lJ%2FsTpRPUFLDnn8eH24STfRT5ZxbqR9BQBOk0i484ELM%2BBMVgC3YDKc8SiGrtkcs17Skrp97A%3D%3D&dataType=json&numOfRows=10&pageNo=1&fromTmFc={ago3}&toTmFc={today}\"\n",
    "\n",
    "\n",
    "\n",
    "# JSON 데이터 가져오기\n",
    "response = requests.get(json_url)\n",
    "json_data = response.json()\n",
    "\n",
    "print(json_data)"
   ]
  },
  {
   "cell_type": "code",
   "execution_count": 15,
   "metadata": {},
   "outputs": [
    {
     "name": "stdout",
     "output_type": "stream",
     "text": [
      "{'response': {'header': {'resultCode': '00', 'resultMsg': 'NORMAL_SERVICE'}, 'body': {'dataType': 'JSON', 'items': {'item': [{'code': '2:202305201115', 'value': '[국외 지진정보] 2023.05.20.11:15 발표'}, {'code': '3:202305191508', 'value': '[국내 지진정보] 2023.05.19.15:08 발표'}, {'code': '2:202305191220', 'value': '[국외 지진정보] 2023.05.19.12:20 발표'}, {'code': '2:202305180823', 'value': '[국외 지진정보] 2023.05.18.08:23 발표'}]}, 'pageNo': 1, 'numOfRows': 10, 'totalCount': 4}}}\n"
     ]
    }
   ],
   "source": [
    "import requests\n",
    "import json\n",
    "from bs4 import BeautifulSoup\n",
    "\n",
    "from datetime import datetime, timedelta\n",
    "\n",
    "today = datetime.now().strftime(\"%Y%m%d\")\n",
    "today1=datetime.now()\n",
    "ago3 = (today1 - timedelta(days=3)).strftime(\"%Y%m%d\")\n",
    "# JSON 데이터를 가져오는 API 또는 URL\n",
    "\n",
    "\n",
    "json_url = f\"http://apis.data.go.kr/1360000/EqkInfoService/getEqkMsgList?serviceKey=DCEWLmC5o0ec6lJ%2FsTpRPUFLDnn8eH24STfRT5ZxbqR9BQBOk0i484ELM%2BBMVgC3YDKc8SiGrtkcs17Skrp97A%3D%3D&dataType=json&numOfRows=10&pageNo=1&fromTmFc={ago3}&toTmFc={today}\"\n",
    "\n",
    "\n",
    "\n",
    "# JSON 데이터 가져오기\n",
    "response = requests.get(json_url)\n",
    "json_data = response.json()\n",
    "\n",
    "print(json_data)\n",
    "\n",
    "# JSON 파일로 저장\n",
    "data = response.json()\n",
    "with open(\"data.json\", \"w\", encoding=\"utf-8\") as f:\n",
    "    json.dump(data, f, ensure_ascii=False)"
   ]
  },
  {
   "cell_type": "code",
   "execution_count": 16,
   "metadata": {},
   "outputs": [],
   "source": [
    "import requests\n",
    "\n",
    "\n",
    "url = \"https://apis.data.go.kr/1741000/DisasterMsg3/getDisasterMsg1List?serviceKey=DCEWLmC5o0ec6lJ%2FsTpRPUFLDnn8eH24STfRT5ZxbqR9BQBOk0i484ELM%2BBMVgC3YDKc8SiGrtkcs17Skrp97A%3D%3D&pageNo=1&numOfRows=10&type=json\"\n",
    "\n",
    "\n",
    "response = requests.get(url)\n",
    "\n",
    "data = response.json()\n",
    "with open(\"data_msgapi.json\", \"w\", encoding=\"utf-8\") as f:\n",
    "    json.dump(data, f, ensure_ascii=False)"
   ]
  },
  {
   "cell_type": "code",
   "execution_count": 29,
   "metadata": {},
   "outputs": [
    {
     "name": "stdout",
     "output_type": "stream",
     "text": [
      "['2023/05/14', '2023/05/14', '2023/05/14', '2023/05/14', '2023/05/14', '2023/05/14', '2023/05/14', '2023/05/13', '2023/05/13', '2023/05/13', '2023/05/13', '2023/05/13', '2023/05/13', '2023/05/13', '2023/05/13', '2023/05/13', '2023/05/13']\n"
     ]
    }
   ],
   "source": [
    "from flask import Flask, render_template, request, redirect, jsonify\n",
    "import requests\n",
    "import json\n",
    "from bs4 import BeautifulSoup\n",
    "import sqlite3\n",
    "\n",
    "# SQLite 데이터베이스 연결\n",
    "conn = sqlite3.connect('database.db')\n",
    "cursor = conn.cursor()\n",
    "\n",
    "# 최근 5일의 데이터 조회\n",
    "cursor.execute(\"SELECT DISTINCT create_date FROM my_table ORDER BY create_date DESC LIMIT 50\")\n",
    "dates = cursor.fetchall()\n",
    "dates = [date[0].split()[0] for date in dates]\n",
    "\n",
    "\n",
    "print(dates)\n",
    "# 각 날짜별 type의 개수 조회\n",
    "# chart_data = {}\n",
    "# for date in dates:\n",
    "#     chart_data[date] = {'undefined': 0, 'missing': 0, 'disaster': 0}\n",
    "\n",
    "# for date in chart_data.keys():\n",
    "#     cursor.execute(f\"SELECT type, COUNT(*) FROM my_table WHERE create_date LIKE '{date}%' GROUP BY type\")\n",
    "#     rows = cursor.fetchall()\n",
    "#     for row in rows:\n",
    "#         chart_data[date][row[0]] = row[1]\n",
    "\n",
    "# 데이터베이스 연결 종료\n",
    "cursor.close()\n",
    "conn.close()\n",
    "\n",
    "\n",
    "\n"
   ]
  },
  {
   "attachments": {},
   "cell_type": "markdown",
   "metadata": {},
   "source": []
  },
  {
   "cell_type": "code",
   "execution_count": null,
   "metadata": {},
   "outputs": [],
   "source": []
  },
  {
   "cell_type": "code",
   "execution_count": null,
   "metadata": {},
   "outputs": [],
   "source": []
  }
 ],
 "metadata": {
  "kernelspec": {
   "display_name": "base",
   "language": "python",
   "name": "python3"
  },
  "language_info": {
   "codemirror_mode": {
    "name": "ipython",
    "version": 3
   },
   "file_extension": ".py",
   "mimetype": "text/x-python",
   "name": "python",
   "nbconvert_exporter": "python",
   "pygments_lexer": "ipython3",
   "version": "3.9.13"
  },
  "orig_nbformat": 4
 },
 "nbformat": 4,
 "nbformat_minor": 2
}
